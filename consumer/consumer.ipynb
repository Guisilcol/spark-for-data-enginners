{
 "cells": [
  {
   "cell_type": "code",
   "execution_count": null,
   "metadata": {},
   "outputs": [],
   "source": [
    "%pip install findspark"
   ]
  },
  {
   "cell_type": "code",
   "execution_count": null,
   "metadata": {},
   "outputs": [],
   "source": [
    "\n",
    "import findspark\n",
    "findspark.init()\n",
    "\n",
    "import pyspark\n",
    "from pyspark.sql import SparkSession\n",
    "import pyspark.sql.functions as F\n",
    "\n",
    "import time\n",
    "\n",
    "KAFKA_BOOTSTRAP_SERVER = \"kafka1:29092\"\n",
    "TOPIC_NAME = 'transactions'\n",
    "KEY = None\n",
    "\n",
    "SQLITE3_URL = \"jdbc:sqlite:/home/jovyan/work/tmp/db.sqlite\"\n",
    "\n",
    "CHECKPOINT_PATH = \"/home/jovyan/work/tmp/checkpoint\"\n",
    "OUTPUT_PATH = \"/home/jovyan/work/tmp/output\""
   ]
  },
  {
   "cell_type": "code",
   "execution_count": null,
   "metadata": {},
   "outputs": [],
   "source": [
    "SCALA_VERSION = '2.12'\n",
    "SPARK_VERSION = '3.2.1'\n",
    "KAFKA_VERSION = '3.3.1'\n",
    "\n",
    "PACKAGES = [\n",
    "    f'org.apache.spark:spark-sql-kafka-0-10_{SCALA_VERSION}:{SPARK_VERSION}',\n",
    "    f'org.apache.kafka:kafka-clients:{KAFKA_VERSION}',\n",
    "    'org.xerial:sqlite-jdbc:3.34.0'\n",
    "]\n",
    "\n",
    "spark = (\n",
    "    SparkSession.builder.appName(\"pyspark_kafka_streaming\")\n",
    "    .config(\"spark.driver.host\", \"localhost\")\n",
    "    .master(\"local[*]\")\n",
    "    .config(\"spark.jars.packages\", \",\".join(PACKAGES))\\\n",
    "    .getOrCreate()\n",
    ")\n",
    "spark.sparkContext.setLogLevel(\"ERROR\")"
   ]
  },
  {
   "cell_type": "code",
   "execution_count": null,
   "metadata": {},
   "outputs": [],
   "source": [
    "df_sqlite = spark.read.format(\"jdbc\").options(url = SQLITE3_URL, driver = \"org.sqlite.JDBC\", dbtable = \"customers\")\\\n",
    "    .load()\n",
    "\n",
    "message_schema = pyspark.sql.types.StructType()\\\n",
    "    .add(\"id\", pyspark.sql.types.StringType())\\\n",
    "    .add(\"user_id\", pyspark.sql.types.StringType())\\\n",
    "    .add(\"agence\", pyspark.sql.types.StringType())\\\n",
    "    .add(\"operation_value\", pyspark.sql.types.IntegerType())\\\n",
    "    .add(\"operation_type\", pyspark.sql.types.StringType())\\\n",
    "    .add(\"date\", pyspark.sql.types.StringType())\\\n",
    "    .add(\"account_balance\", pyspark.sql.types.IntegerType())\n",
    "\n",
    "df_kfk = (\n",
    "    spark.readStream.format(\"kafka\")\n",
    "    .option(\"kafka.bootstrap.servers\", KAFKA_BOOTSTRAP_SERVER)\n",
    "    .option(\"subscribe\", TOPIC_NAME)\n",
    "    .option(\"startingOffsets\", \"latest\")\n",
    "    .load()\n",
    ")\n",
    "\n",
    "df_base = df_kfk.selectExpr(\"CAST(value AS STRING)\")\\\n",
    "                .select(F.from_json(F.col(\"value\"), message_schema))\\\n",
    "                .select(\"from_json(value).*\")\n",
    "\n",
    "df_base = df_base.withColumnRenamed(\"id\", \"transaction_id\")\n",
    "df_base = df_base.join(df_sqlite, df_base.user_id == df_sqlite.id, \"left\")\n",
    "df_base = df_base.withColumn(\"status\", F.when((df_base.account_balance - df_base.operation_value <= 0) & (df_base.operation_type == \"Saque\"), \"blocked\")\n",
    "                                        .otherwise(\"active\"))\n",
    "df_base = df_base.drop(\"id\")\n",
    "\n",
    "stream_final = df_base \\\n",
    "    .writeStream \\\n",
    "    .format(\"console\") \\\n",
    "    .option(\"path\", OUTPUT_PATH) \\\n",
    "    .option(\"checkpointLocation\", CHECKPOINT_PATH) \\\n",
    "    .outputMode(\"append\") \\\n",
    "    .start() \\\n",
    "    .awaitTermination()\n",
    "    "
   ]
  }
 ],
 "metadata": {
  "kernelspec": {
   "display_name": "Python 3 (ipykernel)",
   "language": "python",
   "name": "python3"
  },
  "language_info": {
   "codemirror_mode": {
    "name": "ipython",
    "version": 3
   },
   "file_extension": ".py",
   "mimetype": "text/x-python",
   "name": "python",
   "nbconvert_exporter": "python",
   "pygments_lexer": "ipython3",
   "version": "3.10.8"
  },
  "orig_nbformat": 4,
  "vscode": {
   "interpreter": {
    "hash": "f1fd5665b2765e0242a264cd1fa6df04ac730bcf7c935b47c3cd0039d7b9c0de"
   }
  }
 },
 "nbformat": 4,
 "nbformat_minor": 2
}
