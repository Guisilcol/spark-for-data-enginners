{
  "nbformat": 4,
  "nbformat_minor": 0,
  "metadata": {
    "colab": {
      "provenance": [],
      "mount_file_id": "1gu0rVsMk3t9M1ZfJLnw69XYXKBqsikd2",
      "authorship_tag": "ABX9TyN7amYE5xQekOXKn937sOy+",
      "include_colab_link": true
    },
    "kernelspec": {
      "name": "python3",
      "display_name": "Python 3"
    },
    "language_info": {
      "name": "python"
    }
  },
  "cells": [
    {
      "cell_type": "markdown",
      "metadata": {
        "id": "view-in-github",
        "colab_type": "text"
      },
      "source": [
        "<a href=\"https://colab.research.google.com/github/Guisilcol/spark-for-data-enginners/blob/main/Spark_For_Data_Enginners_Execicio_Aula_3.ipynb\" target=\"_parent\"><img src=\"https://colab.research.google.com/assets/colab-badge.svg\" alt=\"Open In Colab\"/></a>"
      ]
    },
    {
      "cell_type": "markdown",
      "source": [
        "# Instalação de módulos \n",
        "\n"
      ],
      "metadata": {
        "id": "jNadjCWLVu_o"
      }
    },
    {
      "cell_type": "code",
      "execution_count": null,
      "metadata": {
        "id": "XYqT2XObU7ZJ"
      },
      "outputs": [],
      "source": [
        "!pip install pyspark\n",
        "!pip install bibtexparser\n"
      ]
    },
    {
      "cell_type": "markdown",
      "source": [
        "# Importação de módulos e inicialização de constantes"
      ],
      "metadata": {
        "id": "G5gzxDWhZLrp"
      }
    },
    {
      "cell_type": "code",
      "source": [
        "import pyspark\n",
        "import pyspark.sql as spark_sql\n",
        "import pyspark.sql.functions as F\n",
        "import typing as python_types\n",
        "import pyspark.sql.types as spark_types\n",
        "\n",
        "ACM_BIBTEXS_INPUT_FOLDER = '/content/drive/MyDrive/Impacta/Spark for Data Enginners/Exercicio Aula 3/data/acm/*'\n",
        "IEEE_BIBTEXS_INPUT_FOLDER = '/content/drive/MyDrive/Impacta/Spark for Data Enginners/Exercicio Aula 3/data/ieee/*'\n",
        "SCIENCE_DIRECT_BIBTEXS_INPUT_FOLDER = '/content/drive/MyDrive/Impacta/Spark for Data Enginners/Exercicio Aula 3/data/science_direct/*'\n",
        "\n",
        "JCR_FILEPATH = '/content/drive/MyDrive/Impacta/Spark for Data Enginners/Exercicio Aula 3/data/jcs_2020.csv'\n",
        "SCIMAGO_FILEPATH = '/content/drive/MyDrive/Impacta/Spark for Data Enginners/Exercicio Aula 3/data/scimagojr 2020.csv'\n",
        "\n",
        "JSON_OUTPUT_FILE = '/content/drive/MyDrive/Impacta/Spark for Data Enginners/Exercicio Aula 3/output3'\n",
        "\n",
        "\n",
        "SPARK = spark_sql.SparkSession.builder.master(\"local[*]\").getOrCreate()"
      ],
      "metadata": {
        "id": "43F2p48RZYcD"
      },
      "execution_count": null,
      "outputs": []
    },
    {
      "cell_type": "markdown",
      "source": [
        "# UDFs e Python Functions"
      ],
      "metadata": {
        "id": "4msPgogmbei4"
      }
    },
    {
      "cell_type": "code",
      "source": [
        "from glob import glob as get_filenames_in_folder\n",
        "from bibtexparser import load as load_bibtex_database\n",
        "\n",
        "class BibtexHandler:\n",
        "  \n",
        "  @staticmethod\n",
        "  def parse_bibtex_folder_in_dict_list(folder_path: str):\n",
        "    filepaths = get_filenames_in_folder(folder_path)\n",
        "    files = (open(path, \"r\", encoding=\"utf-8\") for path in filepaths)  # type: ignore\n",
        "    bibtexts = (load_bibtex_database(file) for file in files)\n",
        "    bib_entries = (bib.entries for bib in bibtexts)\n",
        "    return list((item for sublist in bib_entries for item in sublist))\n",
        "\n",
        "class Operations:\n",
        "\n",
        "  @staticmethod\n",
        "  def generate_key_from_journal_name(df: spark_sql.DataFrame, journal_title_column: str, output_column: str):\n",
        "    return df.withColumn(output_column, F.regexp_replace(journal_title_column, \"&\", \"AND\"))\\\n",
        "              .withColumn(output_column, F.regexp_replace(output_column, r\"([^A-Za-z0-9]+)\", \"\"))\\\n",
        "              .withColumn(output_column, F.upper(output_column))\\\n",
        "              .withColumn(output_column, F.trim((output_column)))\n",
        "\n",
        "\n",
        "\n"
      ],
      "metadata": {
        "id": "hFRG8LN2bi8N"
      },
      "execution_count": null,
      "outputs": []
    },
    {
      "cell_type": "markdown",
      "source": [
        "# Extração de dados (Python side)"
      ],
      "metadata": {
        "id": "wYoKCq9Wav6y"
      }
    },
    {
      "cell_type": "code",
      "source": [
        "ACM_INPUT_DATA: python_types.List[dict] = BibtexHandler.parse_bibtex_folder_in_dict_list(ACM_BIBTEXS_INPUT_FOLDER)\n",
        "IEEE_INPUT_DATA: python_types.List[dict] = BibtexHandler.parse_bibtex_folder_in_dict_list(IEEE_BIBTEXS_INPUT_FOLDER)\n",
        "SCIENCE_DIRECT_INPUT_DATA: python_types.List[dict] = BibtexHandler.parse_bibtex_folder_in_dict_list(SCIENCE_DIRECT_BIBTEXS_INPUT_FOLDER)"
      ],
      "metadata": {
        "id": "c3p-HO8QavZW"
      },
      "execution_count": null,
      "outputs": []
    },
    {
      "cell_type": "markdown",
      "source": [
        "# Extração e Transformação de dados\n",
        "\n",
        "---\n",
        "\n"
      ],
      "metadata": {
        "id": "pyv-46oXlrXR"
      }
    },
    {
      "cell_type": "code",
      "source": [
        "########################################## Criação dos Dataframes ##########################################\n",
        "ACM_DF = SPARK.createDataFrame(ACM_INPUT_DATA).cache() # type: ignore\n",
        "IEEE_DF = SPARK.createDataFrame(IEEE_INPUT_DATA).cache() # type: ignore\n",
        "SCIENCE_DIRECT_DF = SPARK.createDataFrame(SCIENCE_DIRECT_INPUT_DATA).cache() # type: ignore\n",
        "\n",
        "JCS_DF = SPARK.read.csv(JCR_FILEPATH, sep = \";\", header = True)\n",
        "SCIMAGO_DF = SPARK.read.csv(SCIMAGO_FILEPATH, sep = \";\", header = True)"
      ],
      "metadata": {
        "id": "dPhQYJb9Vkme"
      },
      "execution_count": null,
      "outputs": []
    },
    {
      "cell_type": "code",
      "source": [
        "\n",
        "\n",
        "\n",
        "########################################## Tratamento inicial dos bibtexs ##########################################\n",
        "acm_df = ACM_DF.select([\"author\", \"title\", \"keywords\", \"abstract\", \"year\", \"ENTRYTYPE\", \"doi\", \"issn\", \"isbn\", \"journal\"])\\\n",
        "        .withColumnRenamed(\"ENTRYTYPE\", \"type_publication\")\\\n",
        "        .withColumn(\"source\", F.lit(\"acm\"))\\\n",
        "        .withColumn(\"issn\", F.regexp_replace(\"issn\", \"-\", \"\"))\\\n",
        "        .dropDuplicates()\n",
        "\n",
        "ieee_df = IEEE_DF.select([\"author\", \"title\", \"keywords\", \"abstract\", \"year\", \"ENTRYTYPE\", \"doi\", \"issn\", \"journal\"])\\\n",
        "          .withColumnRenamed(\"ENTRYTYPE\", \"type_publication\")\\\n",
        "          .withColumn(\"source\", F.lit(\"ieee\"))\\\n",
        "          .withColumn(\"issn\", F.regexp_replace(\"issn\", \"-\", \"\"))\\\n",
        "          .withColumn(\"isbn\", F.lit(None).cast(spark_types.StringType()))\\\n",
        "          .dropDuplicates()\n",
        "\n",
        "science_direct_df = SCIENCE_DIRECT_DF.select([\"author\", \"title\", \"keywords\", \"abstract\", \"year\", \"ENTRYTYPE\", \"doi\", \"issn\", \"isbn\", \"journal\"])\\\n",
        "                    .withColumnRenamed(\"ENTRYTYPE\", \"type_publication\")\\\n",
        "                    .withColumn(\"source\", F.lit(\"science direct\"))\\\n",
        "                    .withColumn(\"issn\", F.regexp_replace(\"issn\", \"-\", \"\"))\\\n",
        "                    .dropDuplicates()\n",
        "\n",
        "########################################## Union dos bibtex ##########################################\n",
        "\n",
        "bibtex_df = acm_df.union(ieee_df).union(science_direct_df)"
      ],
      "metadata": {
        "id": "XToLlW6ylumw"
      },
      "execution_count": null,
      "outputs": []
    },
    {
      "cell_type": "code",
      "source": [
        "########################################## Tratamento dos Bibtex ##########################################\n",
        "bibtex_df = bibtex_df.transform(Operations.generate_key_from_journal_name, \n",
        "                                  journal_title_column = 'journal', \n",
        "                                  output_column = 'journal_name_key')\\\n",
        "                      .withColumn('doi', F.regexp_replace('doi', 'https://doi.org/', ''))\n",
        "\n",
        "########################################## Transformação dos arquivos CSV ##########################################\n",
        "scimago_df = SCIMAGO_DF.select(['Issn', 'Title', 'SJR'])\\\n",
        "                        .withColumnRenamed('SJR', 'scimago_value')\\\n",
        "                        .withColumnRenamed('Issn', 'issn')\\\n",
        "                        .withColumnRenamed('Title', 'scimago_title')\\\n",
        "                        .transform(Operations.generate_key_from_journal_name, \n",
        "                                  journal_title_column = 'scimago_title', \n",
        "                                  output_column = 'journal_name_key')\n",
        "                        \n",
        "jcs_df = JCS_DF.select([\"Full Journal Title\", \"Journal Impact Factor\"])\\\n",
        "                .withColumnRenamed(\"Full Journal Title\", \"jcs_title\")\\\n",
        "                .withColumnRenamed(\"Journal Impact Factor\", \"jcs_value\")\\\n",
        "                .transform(Operations.generate_key_from_journal_name, \n",
        "                                  journal_title_column = 'jcs_title', \n",
        "                                  output_column = 'journal_name_key')\n",
        "\n",
        "########################################## JOIN dos arquivos CSV ##########################################\n",
        "journal_df = scimago_df.alias(\"scimago_df\")\\\n",
        "            .join(jcs_df, 'journal_name_key', 'outer')\\\n",
        "            .withColumn('title', F.coalesce(\"scimago_title\", \"jcs_title\"))\\\n",
        "            .withColumn(\"issn\", F.regexp_replace(\"issn\", \" \",\"\"))\\\n",
        "            .select(['title', 'journal_name_key', 'issn', 'scimago_value', 'jcs_value'])\\\n",
        "            .dropDuplicates([\"journal_name_key\"])\n",
        "            \n",
        "journal_df = journal_df.withColumn(\"issn\", F.when(journal_df[\"issn\"] == '-', None).otherwise(journal_df[\"issn\"]))\n",
        "\n",
        "splited_issn = F.split(journal_df[\"issn\"], \",\")\n",
        "\n",
        "journal_df = journal_df.withColumn('issn_1', splited_issn.getItem(0))\\\n",
        "                        .withColumn('issn_2', splited_issn.getItem(1))\\\n",
        "                        .withColumn('issn_3', splited_issn.getItem(3))\\\n",
        "                        .select(['title', 'journal_name_key', 'issn_1', 'issn_2', 'issn_3', 'scimago_value', 'jcs_value'])\n"
      ],
      "metadata": {
        "id": "gQasuiqj4Vu7"
      },
      "execution_count": null,
      "outputs": []
    },
    {
      "cell_type": "code",
      "source": [
        "########################################## JOIN entre Bibtexs e CSV's ##########################################\n",
        "journal_df.createOrReplaceTempView(\"journal_df\")\n",
        "bibtex_df.createOrReplaceTempView(\"bibtex_df\")\n",
        "\n",
        "\n",
        "df_final = SPARK.sql(\n",
        "\"\"\"\n",
        "      SELECT DISTINCT\n",
        "            bib.author\n",
        "            ,bib.title\n",
        "            ,bib.keywords\n",
        "            ,bib.abstract\n",
        "            ,bib.year\n",
        "            ,bib.type_publication\n",
        "            ,bib.doi\n",
        "            ,bib.issn\n",
        "            ,COALESCE(bib.journal, jor.title) journal\n",
        "            ,bib.source\n",
        "            ,jor.scimago_value  \n",
        "            ,jor.jcs_value\n",
        "      FROM \n",
        "            bibtex_df bib\n",
        "            LEFT JOIN journal_df jor\n",
        "                  ON (bib.issn = jor.issn_1\n",
        "                        OR bib.issn = jor.issn_2\n",
        "                        OR bib.issn = jor.issn_3\n",
        "                        OR bib.journal_name_key = jor.journal_name_key)\n",
        "                  AND bib.issn is not null \n",
        "                  AND bib.journal is not null;\"\"\")\n",
        "\n",
        "journal_df.unpersist()\n",
        "bibtex_df.unpersist()\n",
        "\n",
        "\n"
      ],
      "metadata": {
        "id": "QoUocKmEddzk",
        "colab": {
          "base_uri": "https://localhost:8080/"
        },
        "outputId": "5d6fe266-0c02-4610-f81f-33002b6e17c4"
      },
      "execution_count": null,
      "outputs": [
        {
          "output_type": "execute_result",
          "data": {
            "text/plain": [
              "DataFrame[author: string, title: string, keywords: string, abstract: string, year: string, type_publication: string, doi: string, issn: string, isbn: string, journal: string, source: string, journal_name_key: string]"
            ]
          },
          "metadata": {},
          "execution_count": 9
        }
      ]
    },
    {
      "cell_type": "code",
      "source": [],
      "metadata": {
        "id": "zZdTw5mBn61C"
      },
      "execution_count": null,
      "outputs": []
    }
  ]
}