{
  "nbformat": 4,
  "nbformat_minor": 0,
  "metadata": {
    "colab": {
      "provenance": [],
      "mount_file_id": "1cDcddporNDMr-vYPowJHK9t9AYyHDqZr",
      "authorship_tag": "ABX9TyMDc3Jy+D+rA1R97bkwGyYP",
      "include_colab_link": true
    },
    "kernelspec": {
      "name": "python3",
      "display_name": "Python 3"
    },
    "language_info": {
      "name": "python"
    }
  },
  "cells": [
    {
      "cell_type": "markdown",
      "metadata": {
        "id": "view-in-github",
        "colab_type": "text"
      },
      "source": [
        "<a href=\"https://colab.research.google.com/github/Guisilcol/spark-for-data-enginners/blob/main/Word_Count.ipynb\" target=\"_parent\"><img src=\"https://colab.research.google.com/assets/colab-badge.svg\" alt=\"Open In Colab\"/></a>"
      ]
    },
    {
      "cell_type": "code",
      "execution_count": 1,
      "metadata": {
        "colab": {
          "base_uri": "https://localhost:8080/"
        },
        "id": "0sgeUFA5i0xq",
        "outputId": "83f91f08-dd91-4cce-d02d-e4b58a14565e"
      },
      "outputs": [
        {
          "output_type": "stream",
          "name": "stdout",
          "text": [
            "Looking in indexes: https://pypi.org/simple, https://us-python.pkg.dev/colab-wheels/public/simple/\n",
            "Requirement already satisfied: pyspark in /usr/local/lib/python3.7/dist-packages (3.3.1)\n",
            "Requirement already satisfied: py4j==0.10.9.5 in /usr/local/lib/python3.7/dist-packages (from pyspark) (0.10.9.5)\n"
          ]
        }
      ],
      "source": [
        "!pip install pyspark"
      ]
    },
    {
      "cell_type": "code",
      "source": [
        "import pyspark \n",
        "\n",
        "SPARK_HOST = 'local[*]'\n",
        "\n",
        "SRC_LORE_IPSUM_FILEPATH = '/content/drive/MyDrive/Impacta/Spark for Data Enginners/Word Count/lore_ipsum.txt'\n",
        "TGT_WORDS_COUNT = '/content/drive/MyDrive/Impacta/Spark for Data Enginners/Word Count/output1_lore_ipsum.txt'\n",
        "\n",
        "SC = pyspark.SparkContext(SPARK_HOST, appName=\"JOB_01_WORD_COUNT\")"
      ],
      "metadata": {
        "id": "6LlVKTi-i_Rj"
      },
      "execution_count": 2,
      "outputs": []
    },
    {
      "cell_type": "code",
      "source": [
        "words_count = SC.textFile(SRC_LORE_IPSUM_FILEPATH)\\\n",
        "        .flatMap(lambda line: line.split(\" \"))\\\n",
        "        .map(lambda word: (word, 1))\\\n",
        "        .reduceByKey(lambda a,b:a +b)\\\n",
        "        \n",
        "\n",
        "words_count.saveAsTextFile(TGT_WORDS_COUNT)\n",
        "\n",
        "words_count.take(10)\n"
      ],
      "metadata": {
        "id": "Ku9_T-bmjBNi",
        "colab": {
          "base_uri": "https://localhost:8080/"
        },
        "outputId": "80dfcd64-c048-4164-f97c-8d6cfc0e6f4a"
      },
      "execution_count": 3,
      "outputs": [
        {
          "output_type": "execute_result",
          "data": {
            "text/plain": [
              "[('Lorem', 1),\n",
              " ('ipsum', 3),\n",
              " ('consectetur', 2),\n",
              " ('elit.', 3),\n",
              " ('vitae', 2),\n",
              " ('urna', 2),\n",
              " ('nisi,', 1),\n",
              " ('pellentesque', 3),\n",
              " ('odio', 4),\n",
              " ('ut,', 1)]"
            ]
          },
          "metadata": {},
          "execution_count": 3
        }
      ]
    }
  ]
}